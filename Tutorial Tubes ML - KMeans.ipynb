{
 "cells": [
  {
   "cell_type": "markdown",
   "metadata": {},
   "source": [
    "# Tutorial Tubes Machine Learning\n",
    "\n",
    "by Iriyanto - https://github.com/nene-na\n",
    "\n",
    "Slide - https://drive.google.com/drive/u/0/folders/1UsZmeVTA24zUguDV06OCyOucmNzjOtHI\n",
    "\n",
    "## K-Means Clustering"
   ]
  },
  {
   "cell_type": "code",
   "execution_count": 1,
   "metadata": {},
   "outputs": [],
   "source": [
    "# library untuk mempermudah, untuk detailnya silahkan Google\n",
    "import pandas as pd\n",
    "import numpy as np\n",
    "import seaborn as sns\n",
    "import matplotlib.pyplot as plt\n",
    "import plotly.express as px"
   ]
  },
  {
   "cell_type": "markdown",
   "metadata": {},
   "source": [
    "### Langkah 1\n",
    "Misal kita mempunyai data yang terdiri dari:\n",
    "1. x1\n",
    "2. x2\n",
    "3. cluster (jika -1 berati belum menjadi anggota centroid tertentu)"
   ]
  },
  {
   "cell_type": "code",
   "execution_count": 2,
   "metadata": {},
   "outputs": [
    {
     "data": {
      "text/html": [
       "<div>\n",
       "<style scoped>\n",
       "    .dataframe tbody tr th:only-of-type {\n",
       "        vertical-align: middle;\n",
       "    }\n",
       "\n",
       "    .dataframe tbody tr th {\n",
       "        vertical-align: top;\n",
       "    }\n",
       "\n",
       "    .dataframe thead th {\n",
       "        text-align: right;\n",
       "    }\n",
       "</style>\n",
       "<table border=\"1\" class=\"dataframe\">\n",
       "  <thead>\n",
       "    <tr style=\"text-align: right;\">\n",
       "      <th></th>\n",
       "      <th>x1</th>\n",
       "      <th>x2</th>\n",
       "      <th>cluster</th>\n",
       "    </tr>\n",
       "  </thead>\n",
       "  <tbody>\n",
       "    <tr>\n",
       "      <th>0</th>\n",
       "      <td>2</td>\n",
       "      <td>5</td>\n",
       "      <td>-1</td>\n",
       "    </tr>\n",
       "    <tr>\n",
       "      <th>1</th>\n",
       "      <td>4</td>\n",
       "      <td>5</td>\n",
       "      <td>-1</td>\n",
       "    </tr>\n",
       "    <tr>\n",
       "      <th>2</th>\n",
       "      <td>4</td>\n",
       "      <td>2</td>\n",
       "      <td>-1</td>\n",
       "    </tr>\n",
       "    <tr>\n",
       "      <th>3</th>\n",
       "      <td>2</td>\n",
       "      <td>2</td>\n",
       "      <td>-1</td>\n",
       "    </tr>\n",
       "    <tr>\n",
       "      <th>4</th>\n",
       "      <td>9</td>\n",
       "      <td>5</td>\n",
       "      <td>-1</td>\n",
       "    </tr>\n",
       "    <tr>\n",
       "      <th>5</th>\n",
       "      <td>11</td>\n",
       "      <td>5</td>\n",
       "      <td>-1</td>\n",
       "    </tr>\n",
       "    <tr>\n",
       "      <th>6</th>\n",
       "      <td>11</td>\n",
       "      <td>2</td>\n",
       "      <td>-1</td>\n",
       "    </tr>\n",
       "    <tr>\n",
       "      <th>7</th>\n",
       "      <td>9</td>\n",
       "      <td>2</td>\n",
       "      <td>-1</td>\n",
       "    </tr>\n",
       "  </tbody>\n",
       "</table>\n",
       "</div>"
      ],
      "text/plain": [
       "   x1  x2  cluster\n",
       "0   2   5       -1\n",
       "1   4   5       -1\n",
       "2   4   2       -1\n",
       "3   2   2       -1\n",
       "4   9   5       -1\n",
       "5  11   5       -1\n",
       "6  11   2       -1\n",
       "7   9   2       -1"
      ]
     },
     "execution_count": 2,
     "metadata": {},
     "output_type": "execute_result"
    }
   ],
   "source": [
    "data = [\n",
    "    [2, 5, -1],\n",
    "    [4, 5, -1],\n",
    "    [4, 2, -1],\n",
    "    [2, 2, -1],\n",
    "    [9, 5, -1],\n",
    "    [11, 5, -1],\n",
    "    [11, 2, -1],\n",
    "    [9, 2, -1]\n",
    "]\n",
    "\n",
    "df = pd.DataFrame(data, columns=['x1', 'x2', 'cluster'])\n",
    "df"
   ]
  },
  {
   "cell_type": "code",
   "execution_count": 3,
   "metadata": {},
   "outputs": [
    {
     "data": {
      "text/plain": [
       "<matplotlib.axes._subplots.AxesSubplot at 0x15aa7211c50>"
      ]
     },
     "execution_count": 3,
     "metadata": {},
     "output_type": "execute_result"
    },
    {
     "data": {
      "image/png": "[encoded data removed]",
      "text/plain": [
       "<Figure size 432x288 with 1 Axes>"
      ]
     },
     "metadata": {
      "needs_background": "light"
     },
     "output_type": "display_data"
    }
   ],
   "source": [
    "sns.scatterplot(x='x1', y='x2', data=df)"
   ]
  },
  {
   "cell_type": "markdown",
   "metadata": {},
   "source": [
    "K-Means, k atau bisa disebut centroid adalah titik pusat dari cluster-cluster nantinya\n",
    "\n",
    "Misal k = 2\n",
    "\n",
    "Pilih dua centroid (biasanya digenerate / dibuat secara acak) dari 8 objek data (titik)\n",
    "\n",
    "Misal kita disini membuat titik centroidnya berada pada:"
   ]
  },
  {
   "cell_type": "code",
   "execution_count": 4,
   "metadata": {},
   "outputs": [
    {
     "data": {
      "text/html": [
       "<div>\n",
       "<style scoped>\n",
       "    .dataframe tbody tr th:only-of-type {\n",
       "        vertical-align: middle;\n",
       "    }\n",
       "\n",
       "    .dataframe tbody tr th {\n",
       "        vertical-align: top;\n",
       "    }\n",
       "\n",
       "    .dataframe thead th {\n",
       "        text-align: right;\n",
       "    }\n",
       "</style>\n",
       "<table border=\"1\" class=\"dataframe\">\n",
       "  <thead>\n",
       "    <tr style=\"text-align: right;\">\n",
       "      <th></th>\n",
       "      <th>x1</th>\n",
       "      <th>x2</th>\n",
       "      <th>cluster</th>\n",
       "    </tr>\n",
       "  </thead>\n",
       "  <tbody>\n",
       "    <tr>\n",
       "      <th>0</th>\n",
       "      <td>5</td>\n",
       "      <td>4</td>\n",
       "      <td>Centroid A</td>\n",
       "    </tr>\n",
       "    <tr>\n",
       "      <th>1</th>\n",
       "      <td>7</td>\n",
       "      <td>3</td>\n",
       "      <td>Centroid B</td>\n",
       "    </tr>\n",
       "  </tbody>\n",
       "</table>\n",
       "</div>"
      ],
      "text/plain": [
       "   x1  x2     cluster\n",
       "0   5   4  Centroid A\n",
       "1   7   3  Centroid B"
      ]
     },
     "execution_count": 4,
     "metadata": {},
     "output_type": "execute_result"
    }
   ],
   "source": [
    "# centroid baru\n",
    "centroid = [\n",
    "    [5, 4, 'Centroid A'], # x1=5, x2=4\n",
    "    [7, 3, 'Centroid B'], # x1=7, x2=3\n",
    "]\n",
    "\n",
    "# kita buat menjadi dataframe\n",
    "df_centroid = pd.DataFrame(centroid, columns=['x1', 'x2', 'cluster'])\n",
    "df_centroid"
   ]
  },
  {
   "cell_type": "markdown",
   "metadata": {},
   "source": [
    "Coba kita plot bagaimana posisinya awal dari data kita"
   ]
  },
  {
   "cell_type": "code",
   "execution_count": 5,
   "metadata": {},
   "outputs": [
    {
     "data": {
      "text/plain": [
       "<matplotlib.axes._subplots.AxesSubplot at 0x15aa89b9518>"
      ]
     },
     "execution_count": 5,
     "metadata": {},
     "output_type": "execute_result"
    },
    {
     "data": {
      "image/png": "[encoded data removed]",
      "text/plain": [
       "<Figure size 432x288 with 1 Axes>"
      ]
     },
     "metadata": {
      "needs_background": "light"
     },
     "output_type": "display_data"
    }
   ],
   "source": [
    "sns.scatterplot(x='x1', y='x2', hue='cluster', data=df.append(df_centroid))"
   ]
  },
  {
   "cell_type": "markdown",
   "metadata": {},
   "source": [
    "## Langkah 2\n",
    "Langkah selanjutnya yaitu menentukan anggota setiap klaster dengan memiilih centroid terdekat\n",
    "\n",
    "Dengan Euclidean Distance:\n",
    "\n",
    "<img src=\"https://www.codespeedy.com/wp-content/uploads/2020/01/Euclidean-Distance.png\" width=\"300px\">\n"
   ]
  },
  {
   "cell_type": "code",
   "execution_count": 6,
   "metadata": {},
   "outputs": [
    {
     "name": "stdout",
     "output_type": "stream",
     "text": [
      "Titik 1 (2,5)\n",
      "Centroid A (5,4)\n",
      "Jarak Titik 1 ke Centroid A adalah 3.1622776601683795\n"
     ]
    }
   ],
   "source": [
    "# contoh menghitungnya untuk titik (2, 5) dengan centroid A (5, 4)\n",
    "x1, y1 = df.iloc[0][['x1', 'x2']]\n",
    "print('Titik 1 ({},{})'.format(x1, y1))\n",
    "\n",
    "x2, y2 = df_centroid.iloc[0][['x1', 'x2']]\n",
    "print('Centroid A ({},{})'.format(x2, y2))\n",
    "\n",
    "# euclidean distant dengan hanya dua item pertitik\n",
    "dist1A = ((x2-x1)**2 + (y2-y1)**2)**0.5\n",
    "\n",
    "print('Jarak Titik 1 ke Centroid A adalah {}'.format(dist1A))"
   ]
  },
  {
   "cell_type": "code",
   "execution_count": 7,
   "metadata": {},
   "outputs": [
    {
     "name": "stdout",
     "output_type": "stream",
     "text": [
      "Titik 1 (2,5)\n",
      "Centroid A (7,3)\n",
      "Jarak Titik 1 ke Centroid B adalah 5.385164807134504\n"
     ]
    }
   ],
   "source": [
    "# contoh menghitungnya untuk titik (2, 5) dengan centroid B (7, 3)\n",
    "x1, y1 = df.iloc[0][['x1', 'x2']]\n",
    "print('Titik 1 ({},{})'.format(x1, y1))\n",
    "\n",
    "x2, y2 = df_centroid.iloc[1][['x1', 'x2']]\n",
    "print('Centroid A ({},{})'.format(x2, y2))\n",
    "\n",
    "# euclidean distant dengan hanya dua item pertitik\n",
    "dist1B = ((x2-x1)**2 + (y2-y1)**2)**0.5\n",
    "\n",
    "print('Jarak Titik 1 ke Centroid B adalah {}'.format(dist1B))"
   ]
  },
  {
   "cell_type": "markdown",
   "metadata": {},
   "source": [
    "Nah, itu baru satu titik ke semua centroid\n",
    "\n",
    "Selanjutnya kita bandingkan jaraknya, titik 1 ini lebih deket ke A apa ke B"
   ]
  },
  {
   "cell_type": "code",
   "execution_count": 8,
   "metadata": {},
   "outputs": [
    {
     "name": "stdout",
     "output_type": "stream",
     "text": [
      "Titik 1 ternyata masuk ke Cluster A, atau lebih dekat ke Centroid A\n"
     ]
    }
   ],
   "source": [
    "hasil = 'Cluster A' if (dist1A < dist1B) else 'Cluster B'\n",
    "print('Titik 1 ternyata masuk ke {}, atau lebih dekat ke Centroid A'.format(hasil))"
   ]
  },
  {
   "cell_type": "markdown",
   "metadata": {},
   "source": [
    "Nah, langkah diatas itu diulangi sampai semua titik itu terpilih ke centroid. Dan kita taruh hasilnya ke df kita diawal\n",
    "\n",
    "Misal hasilnya seperti ini:"
   ]
  },
  {
   "cell_type": "code",
   "execution_count": 9,
   "metadata": {},
   "outputs": [
    {
     "data": {
      "text/html": [
       "<div>\n",
       "<style scoped>\n",
       "    .dataframe tbody tr th:only-of-type {\n",
       "        vertical-align: middle;\n",
       "    }\n",
       "\n",
       "    .dataframe tbody tr th {\n",
       "        vertical-align: top;\n",
       "    }\n",
       "\n",
       "    .dataframe thead th {\n",
       "        text-align: right;\n",
       "    }\n",
       "</style>\n",
       "<table border=\"1\" class=\"dataframe\">\n",
       "  <thead>\n",
       "    <tr style=\"text-align: right;\">\n",
       "      <th></th>\n",
       "      <th>x1</th>\n",
       "      <th>x2</th>\n",
       "      <th>cluster</th>\n",
       "    </tr>\n",
       "  </thead>\n",
       "  <tbody>\n",
       "    <tr>\n",
       "      <th>0</th>\n",
       "      <td>2</td>\n",
       "      <td>5</td>\n",
       "      <td>Cluster A</td>\n",
       "    </tr>\n",
       "    <tr>\n",
       "      <th>1</th>\n",
       "      <td>4</td>\n",
       "      <td>5</td>\n",
       "      <td>Cluster A</td>\n",
       "    </tr>\n",
       "    <tr>\n",
       "      <th>2</th>\n",
       "      <td>4</td>\n",
       "      <td>2</td>\n",
       "      <td>Cluster A</td>\n",
       "    </tr>\n",
       "    <tr>\n",
       "      <th>3</th>\n",
       "      <td>2</td>\n",
       "      <td>2</td>\n",
       "      <td>Cluster A</td>\n",
       "    </tr>\n",
       "    <tr>\n",
       "      <th>4</th>\n",
       "      <td>9</td>\n",
       "      <td>5</td>\n",
       "      <td>Cluster B</td>\n",
       "    </tr>\n",
       "    <tr>\n",
       "      <th>5</th>\n",
       "      <td>11</td>\n",
       "      <td>5</td>\n",
       "      <td>Cluster B</td>\n",
       "    </tr>\n",
       "    <tr>\n",
       "      <th>6</th>\n",
       "      <td>11</td>\n",
       "      <td>2</td>\n",
       "      <td>Cluster B</td>\n",
       "    </tr>\n",
       "    <tr>\n",
       "      <th>7</th>\n",
       "      <td>9</td>\n",
       "      <td>2</td>\n",
       "      <td>Cluster B</td>\n",
       "    </tr>\n",
       "  </tbody>\n",
       "</table>\n",
       "</div>"
      ],
      "text/plain": [
       "   x1  x2    cluster\n",
       "0   2   5  Cluster A\n",
       "1   4   5  Cluster A\n",
       "2   4   2  Cluster A\n",
       "3   2   2  Cluster A\n",
       "4   9   5  Cluster B\n",
       "5  11   5  Cluster B\n",
       "6  11   2  Cluster B\n",
       "7   9   2  Cluster B"
      ]
     },
     "execution_count": 9,
     "metadata": {},
     "output_type": "execute_result"
    }
   ],
   "source": [
    "cluster = [\n",
    "    'Cluster A', 'Cluster A', 'Cluster A', 'Cluster A',\n",
    "    'Cluster B', 'Cluster B', 'Cluster B', 'Cluster B',\n",
    "]\n",
    "\n",
    "df['cluster'] = cluster\n",
    "\n",
    "df"
   ]
  },
  {
   "cell_type": "markdown",
   "metadata": {},
   "source": [
    "Maka gambarannya seperti dibawah ini\n",
    "\n",
    "1. Cluster A adalah titik yang menjadi anggota Centroid A\n",
    "2. Cluster B adalah titik yang menjadi anggota Centroid B"
   ]
  },
  {
   "cell_type": "code",
   "execution_count": 10,
   "metadata": {},
   "outputs": [
    {
     "data": {
      "text/plain": [
       "<matplotlib.axes._subplots.AxesSubplot at 0x15aa8a802b0>"
      ]
     },
     "execution_count": 10,
     "metadata": {},
     "output_type": "execute_result"
    },
    {
     "data": {
      "image/png": "[encoded data removed]",
      "text/plain": [
       "<Figure size 432x288 with 1 Axes>"
      ]
     },
     "metadata": {
      "needs_background": "light"
     },
     "output_type": "display_data"
    }
   ],
   "source": [
    "sns.scatterplot(x='x1', y='x2', hue='cluster', data=df.append(df_centroid))"
   ]
  },
  {
   "cell_type": "markdown",
   "metadata": {},
   "source": [
    "## Langkah 3\n",
    "Menentukan posisi baru untuk tiap centroid\n",
    "\n",
    "Contoh kita mau memindahkan posisi Centroid A"
   ]
  },
  {
   "cell_type": "code",
   "execution_count": 11,
   "metadata": {},
   "outputs": [
    {
     "name": "stdout",
     "output_type": "stream",
     "text": [
      "Centroid A pindah ke titik (3.0, 3.5)\n"
     ]
    }
   ],
   "source": [
    "# ambil x1 dari semua titik yang merupakan anggota centroid A\n",
    "x1 = df[df['cluster'] == 'Cluster A']['x1'].tolist()\n",
    "\n",
    "# ambil x2 dari semua titik yang merupakan anggota centroid A\n",
    "x2 = df[df['cluster'] == 'Cluster A']['x2'].tolist()\n",
    "\n",
    "# hitung rata-rata x1 titik 1\n",
    "mean_x1_A = np.sum(x1) / len(x1)\n",
    "\n",
    "# hitung rata-rata x1 titik 1\n",
    "mean_x2_A = np.sum(x2) / len(x2)\n",
    "\n",
    "# nah titik inilah titik baru untuk Centroid A\n",
    "print('Centroid A pindah ke titik ({}, {})'.format(mean_x1_A, mean_x2_A))"
   ]
  },
  {
   "cell_type": "code",
   "execution_count": 12,
   "metadata": {},
   "outputs": [
    {
     "name": "stdout",
     "output_type": "stream",
     "text": [
      "Centroid B pindah ke titik (10, 3.5)\n"
     ]
    }
   ],
   "source": [
    "# misal centroid B\n",
    "mean_x1_B = 10\n",
    "mean_x2_B = 3.5\n",
    "\n",
    "print('Centroid B pindah ke titik ({}, {})'.format(mean_x1_B, mean_x2_B))"
   ]
  },
  {
   "cell_type": "code",
   "execution_count": 13,
   "metadata": {},
   "outputs": [
    {
     "data": {
      "text/html": [
       "<div>\n",
       "<style scoped>\n",
       "    .dataframe tbody tr th:only-of-type {\n",
       "        vertical-align: middle;\n",
       "    }\n",
       "\n",
       "    .dataframe tbody tr th {\n",
       "        vertical-align: top;\n",
       "    }\n",
       "\n",
       "    .dataframe thead th {\n",
       "        text-align: right;\n",
       "    }\n",
       "</style>\n",
       "<table border=\"1\" class=\"dataframe\">\n",
       "  <thead>\n",
       "    <tr style=\"text-align: right;\">\n",
       "      <th></th>\n",
       "      <th>x1</th>\n",
       "      <th>x2</th>\n",
       "      <th>cluster</th>\n",
       "    </tr>\n",
       "  </thead>\n",
       "  <tbody>\n",
       "    <tr>\n",
       "      <th>0</th>\n",
       "      <td>3.0</td>\n",
       "      <td>3.5</td>\n",
       "      <td>Centroid A</td>\n",
       "    </tr>\n",
       "    <tr>\n",
       "      <th>1</th>\n",
       "      <td>10.0</td>\n",
       "      <td>3.5</td>\n",
       "      <td>Centroid B</td>\n",
       "    </tr>\n",
       "  </tbody>\n",
       "</table>\n",
       "</div>"
      ],
      "text/plain": [
       "     x1   x2     cluster\n",
       "0   3.0  3.5  Centroid A\n",
       "1  10.0  3.5  Centroid B"
      ]
     },
     "execution_count": 13,
     "metadata": {},
     "output_type": "execute_result"
    }
   ],
   "source": [
    "# masukan titik baru Centroid A\n",
    "df_centroid.iloc[0,0] = mean_x1_A\n",
    "df_centroid.iloc[0,1] = mean_x2_A\n",
    "\n",
    "# masukan titik baru Centroid B\n",
    "df_centroid.iloc[1,0] = mean_x1_B\n",
    "df_centroid.iloc[1,1] = mean_x2_B\n",
    "\n",
    "df_centroid"
   ]
  },
  {
   "cell_type": "markdown",
   "metadata": {},
   "source": [
    "## Langkah 4\n",
    "\n",
    "Ulangi langkah 2 dan 3 sampai semua centroid tidak berubah posisinya\n",
    "\n",
    "Jika tidak ada perubahan lagi, maka sudah selesai algoritma KMeans nya"
   ]
  },
  {
   "cell_type": "code",
   "execution_count": 14,
   "metadata": {},
   "outputs": [
    {
     "data": {
      "text/plain": [
       "<matplotlib.axes._subplots.AxesSubplot at 0x15aa72114a8>"
      ]
     },
     "execution_count": 14,
     "metadata": {},
     "output_type": "execute_result"
    },
    {
     "data": {
      "image/png": "[encoded data removed]",
      "text/plain": [
       "<Figure size 432x288 with 1 Axes>"
      ]
     },
     "metadata": {
      "needs_background": "light"
     },
     "output_type": "display_data"
    }
   ],
   "source": [
    "sns.scatterplot(x='x1', y='x2', hue='cluster', data=df.append(df_centroid))"
   ]
  },
  {
   "cell_type": "markdown",
   "metadata": {},
   "source": [
    "# Selesai - Semoga membantu"
   ]
  },
  {
   "cell_type": "markdown",
   "metadata": {},
   "source": [
    "Library dibawah untuk membuat data clustering secara otomatis"
   ]
  },
  {
   "cell_type": "code",
   "execution_count": 15,
   "metadata": {},
   "outputs": [
    {
     "data": {
      "text/html": [
       "<div>\n",
       "<style scoped>\n",
       "    .dataframe tbody tr th:only-of-type {\n",
       "        vertical-align: middle;\n",
       "    }\n",
       "\n",
       "    .dataframe tbody tr th {\n",
       "        vertical-align: top;\n",
       "    }\n",
       "\n",
       "    .dataframe thead th {\n",
       "        text-align: right;\n",
       "    }\n",
       "</style>\n",
       "<table border=\"1\" class=\"dataframe\">\n",
       "  <thead>\n",
       "    <tr style=\"text-align: right;\">\n",
       "      <th></th>\n",
       "      <th>x1</th>\n",
       "      <th>x2</th>\n",
       "      <th>cluster</th>\n",
       "    </tr>\n",
       "  </thead>\n",
       "  <tbody>\n",
       "    <tr>\n",
       "      <th>0</th>\n",
       "      <td>-5.198113</td>\n",
       "      <td>0.641869</td>\n",
       "      <td>1</td>\n",
       "    </tr>\n",
       "    <tr>\n",
       "      <th>1</th>\n",
       "      <td>-5.752295</td>\n",
       "      <td>0.418627</td>\n",
       "      <td>1</td>\n",
       "    </tr>\n",
       "    <tr>\n",
       "      <th>2</th>\n",
       "      <td>-10.844898</td>\n",
       "      <td>-7.553523</td>\n",
       "      <td>0</td>\n",
       "    </tr>\n",
       "    <tr>\n",
       "      <th>3</th>\n",
       "      <td>-4.570985</td>\n",
       "      <td>-0.801017</td>\n",
       "      <td>1</td>\n",
       "    </tr>\n",
       "    <tr>\n",
       "      <th>4</th>\n",
       "      <td>-3.519162</td>\n",
       "      <td>0.039345</td>\n",
       "      <td>1</td>\n",
       "    </tr>\n",
       "  </tbody>\n",
       "</table>\n",
       "</div>"
      ],
      "text/plain": [
       "          x1        x2  cluster\n",
       "0  -5.198113  0.641869        1\n",
       "1  -5.752295  0.418627        1\n",
       "2 -10.844898 -7.553523        0\n",
       "3  -4.570985 -0.801017        1\n",
       "4  -3.519162  0.039345        1"
      ]
     },
     "execution_count": 15,
     "metadata": {},
     "output_type": "execute_result"
    }
   ],
   "source": [
    "from sklearn.datasets import make_blobs\n",
    "\n",
    "n_samples = 1500\n",
    "random_state = 170\n",
    "X, y = make_blobs(n_samples=n_samples, random_state=random_state)\n",
    "\n",
    "df_clustering = pd.DataFrame(X, columns=['x1', 'x2'])\n",
    "df_clustering['cluster'] = y\n",
    "df_clustering.head()"
   ]
  },
  {
   "cell_type": "code",
   "execution_count": 16,
   "metadata": {},
   "outputs": [
    {
     "data": {
      "text/plain": [
       "<matplotlib.axes._subplots.AxesSubplot at 0x15aa9012828>"
      ]
     },
     "execution_count": 16,
     "metadata": {},
     "output_type": "execute_result"
    },
    {
     "data": {
      "image/png": "[encoded data removed]",
      "text/plain": [
       "<Figure size 432x288 with 1 Axes>"
      ]
     },
     "metadata": {
      "needs_background": "light"
     },
     "output_type": "display_data"
    }
   ],
   "source": [
    "sns.scatterplot(x='x1', y='x2', data=df_clustering)"
   ]
  },
  {
   "cell_type": "code",
   "execution_count": 17,
   "metadata": {},
   "outputs": [
    {
     "data": {
      "text/plain": [
       "<matplotlib.axes._subplots.AxesSubplot at 0x15aa908cf60>"
      ]
     },
     "execution_count": 17,
     "metadata": {},
     "output_type": "execute_result"
    },
    {
     "data": {
      "image/png": "[encoded data removed]",
      "text/plain": [
       "<Figure size 432x288 with 1 Axes>"
      ]
     },
     "metadata": {
      "needs_background": "light"
     },
     "output_type": "display_data"
    }
   ],
   "source": [
    "sns.scatterplot(x='x1', y='x2', hue='cluster', data=df_clustering)"
   ]
  }
 ],
 "metadata": {
  "kernelspec": {
   "display_name": "Python 3",
   "language": "python",
   "name": "python3"
  },
  "language_info": {
   "codemirror_mode": {
    "name": "ipython",
    "version": 3
   },
   "file_extension": ".py",
   "mimetype": "text/x-python",
   "name": "python",
   "nbconvert_exporter": "python",
   "pygments_lexer": "ipython3",
   "version": "3.7.3"
  }
 },
 "nbformat": 4,
 "nbformat_minor": 2
}
